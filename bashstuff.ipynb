{
 "cells": [
  {
   "cell_type": "code",
   "execution_count": 1,
   "id": "2ff0ed25",
   "metadata": {},
   "outputs": [],
   "source": [
    "import subprocess"
   ]
  },
  {
   "cell_type": "code",
   "execution_count": 9,
   "id": "6628ef51",
   "metadata": {},
   "outputs": [],
   "source": [
    "import os"
   ]
  },
  {
   "cell_type": "code",
   "execution_count": 2,
   "id": "9ce8c2b2",
   "metadata": {},
   "outputs": [],
   "source": [
    "output_audio_dir = 'files/mismatched_videos/'"
   ]
  },
  {
   "cell_type": "code",
   "execution_count": 4,
   "id": "b3a167dc",
   "metadata": {},
   "outputs": [],
   "source": [
    "with open('files/videolist.txt', 'r') as f:\n",
    "    data = [x.strip() for x in f.readlines()]"
   ]
  },
  {
   "cell_type": "code",
   "execution_count": 22,
   "id": "4cb0786c",
   "metadata": {},
   "outputs": [
    {
     "name": "stdout",
     "output_type": "stream",
     "text": [
      "ffmpeg -i /raid/nayak/Merkel_TTS_Dataset/../cropped/pycrop/2020-07-11_0000/2020-07-11_0000.avi -i /raid/nayak/Merkel_TTS_Dataset/../cropped/pycrop/2021-04-01_0078/2021-04-01_0078.avi -c copy -map 0:0 -map 1:1 -shortest files/mismatched_videos/merkel_video_0.avi\n",
      "1\n",
      "ffmpeg -i /raid/nayak/Merkel_TTS_Dataset/../cropped/pycrop/2021-04-01_0078/2021-04-01_0078.avi -i /raid/nayak/Merkel_TTS_Dataset/../cropped/pycrop/2019-12-31_0005/2019-12-31_0005.avi -c copy -map 0:0 -map 1:1 -shortest files/mismatched_videos/merkel_video_1.avi\n",
      "0\n",
      "ffmpeg -i /raid/nayak/Merkel_TTS_Dataset/../cropped/pycrop/2019-12-31_0005/2019-12-31_0005.avi -i /raid/nayak/Merkel_TTS_Dataset/../cropped/pycrop/2020-08-29_0003/2020-08-29_0003.avi -c copy -map 0:0 -map 1:1 -shortest files/mismatched_videos/merkel_video_2.avi\n",
      "0\n",
      "ffmpeg -i /raid/nayak/Merkel_TTS_Dataset/../cropped/pycrop/2020-08-29_0003/2020-08-29_0003.avi -i /raid/nayak/Merkel_TTS_Dataset/../cropped/pycrop/2014-12-13_0012/2014-12-13_0012.avi -c copy -map 0:0 -map 1:1 -shortest files/mismatched_videos/merkel_video_3.avi\n",
      "0\n",
      "ffmpeg -i /raid/nayak/Merkel_TTS_Dataset/../cropped/pycrop/2014-12-13_0012/2014-12-13_0012.avi -i /raid/nayak/Merkel_TTS_Dataset/../cropped/pycrop/2021-04-01_0013/2021-04-01_0013.avi -c copy -map 0:0 -map 1:1 -shortest files/mismatched_videos/merkel_video_4.avi\n",
      "0\n",
      "ffmpeg -i /raid/nayak/Merkel_TTS_Dataset/../cropped/pycrop/2021-04-01_0013/2021-04-01_0013.avi -i /raid/nayak/Merkel_TTS_Dataset/../cropped/pycrop/2021-02-13_0034/2021-02-13_0034.avi -c copy -map 0:0 -map 1:1 -shortest files/mismatched_videos/merkel_video_5.avi\n",
      "0\n",
      "ffmpeg -i /raid/nayak/Merkel_TTS_Dataset/../cropped/pycrop/2021-02-13_0034/2021-02-13_0034.avi -i /raid/nayak/Merkel_TTS_Dataset/../cropped/pycrop/2014-03-29_0031/2014-03-29_0031.avi -c copy -map 0:0 -map 1:1 -shortest files/mismatched_videos/merkel_video_6.avi\n",
      "0\n",
      "ffmpeg -i /raid/nayak/Merkel_TTS_Dataset/../cropped/pycrop/2014-03-29_0031/2014-03-29_0031.avi -i /raid/nayak/Merkel_TTS_Dataset/../cropped/pycrop/2020-07-11_0011/2020-07-11_0011.avi -c copy -map 0:0 -map 1:1 -shortest files/mismatched_videos/merkel_video_7.avi\n",
      "0\n",
      "ffmpeg -i /raid/nayak/Merkel_TTS_Dataset/../cropped/pycrop/2020-07-11_0011/2020-07-11_0011.avi -i /raid/nayak/Merkel_TTS_Dataset/../cropped/pycrop/2015-09-19_0004/2015-09-19_0004.avi -c copy -map 0:0 -map 1:1 -shortest files/mismatched_videos/merkel_video_8.avi\n",
      "0\n",
      "ffmpeg -i /raid/nayak/Merkel_TTS_Dataset/../cropped/pycrop/2015-09-19_0004/2015-09-19_0004.avi -i /raid/nayak/Merkel_TTS_Dataset/../cropped/pycrop/2014-09-20_0019/2014-09-20_0019.avi -c copy -map 0:0 -map 1:1 -shortest files/mismatched_videos/merkel_video_9.avi\n",
      "0\n",
      "ffmpeg -i /raid/nayak/Merkel_TTS_Dataset/../cropped/pycrop/2014-09-20_0019/2014-09-20_0019.avi -i /raid/nayak/Merkel_TTS_Dataset/../cropped/pycrop/2015-09-12_0025/2015-09-12_0025.avi -c copy -map 0:0 -map 1:1 -shortest files/mismatched_videos/merkel_video_10.avi\n",
      "0\n",
      "ffmpeg -i /raid/nayak/Merkel_TTS_Dataset/../cropped/pycrop/2015-09-12_0025/2015-09-12_0025.avi -i /raid/nayak/Merkel_TTS_Dataset/../cropped/pycrop/2014-12-06_0003/2014-12-06_0003.avi -c copy -map 0:0 -map 1:1 -shortest files/mismatched_videos/merkel_video_11.avi\n",
      "0\n",
      "ffmpeg -i /raid/nayak/Merkel_TTS_Dataset/../cropped/pycrop/2014-12-06_0003/2014-12-06_0003.avi -i /raid/nayak/Merkel_TTS_Dataset/../cropped/pycrop/2013-12-31_0056/2013-12-31_0056.avi -c copy -map 0:0 -map 1:1 -shortest files/mismatched_videos/merkel_video_12.avi\n",
      "0\n",
      "ffmpeg -i /raid/nayak/Merkel_TTS_Dataset/../cropped/pycrop/2013-12-31_0056/2013-12-31_0056.avi -i /raid/nayak/Merkel_TTS_Dataset/../cropped/pycrop/2013-07-06_0013/2013-07-06_0013.avi -c copy -map 0:0 -map 1:1 -shortest files/mismatched_videos/merkel_video_13.avi\n",
      "0\n",
      "ffmpeg -i /raid/nayak/Merkel_TTS_Dataset/../cropped/pycrop/2013-07-06_0013/2013-07-06_0013.avi -i /raid/nayak/Merkel_TTS_Dataset/../cropped/pycrop/2017-11-04_0004/2017-11-04_0004.avi -c copy -map 0:0 -map 1:1 -shortest files/mismatched_videos/merkel_video_14.avi\n",
      "0\n",
      "ffmpeg -i /raid/nayak/Merkel_TTS_Dataset/../cropped/pycrop/2017-11-04_0004/2017-11-04_0004.avi -i /raid/nayak/Merkel_TTS_Dataset/../cropped/pycrop/2014-12-13_0022/2014-12-13_0022.avi -c copy -map 0:0 -map 1:1 -shortest files/mismatched_videos/merkel_video_15.avi\n",
      "0\n",
      "ffmpeg -i /raid/nayak/Merkel_TTS_Dataset/../cropped/pycrop/2014-12-13_0022/2014-12-13_0022.avi -i /raid/nayak/Merkel_TTS_Dataset/../cropped/pycrop/2014-11-01_0031/2014-11-01_0031.avi -c copy -map 0:0 -map 1:1 -shortest files/mismatched_videos/merkel_video_16.avi\n",
      "0\n",
      "ffmpeg -i /raid/nayak/Merkel_TTS_Dataset/../cropped/pycrop/2014-11-01_0031/2014-11-01_0031.avi -i /raid/nayak/Merkel_TTS_Dataset/../cropped/pycrop/2013-06-08_0015/2013-06-08_0015.avi -c copy -map 0:0 -map 1:1 -shortest files/mismatched_videos/merkel_video_17.avi\n",
      "0\n",
      "ffmpeg -i /raid/nayak/Merkel_TTS_Dataset/../cropped/pycrop/2013-06-08_0015/2013-06-08_0015.avi -i /raid/nayak/Merkel_TTS_Dataset/../cropped/pycrop/2017-06-24_0041/2017-06-24_0041.avi -c copy -map 0:0 -map 1:1 -shortest files/mismatched_videos/merkel_video_18.avi\n",
      "0\n",
      "ffmpeg -i /raid/nayak/Merkel_TTS_Dataset/../cropped/pycrop/2017-06-24_0041/2017-06-24_0041.avi -i /raid/nayak/Merkel_TTS_Dataset/../cropped/pycrop/2020-07-11_0000/2020-07-11_0000.avi -c copy -map 0:0 -map 1:1 -shortest files/mismatched_videos/merkel_video_19.avi\n",
      "0\n"
     ]
    }
   ],
   "source": [
    "for i in range(len(data)):\n",
    "    video_1 = data[i]\n",
    "    if not video_1.endswith('avi'):\n",
    "        video_1 = os.path.join(video_1, os.path.basename(video_1)+'.avi')\n",
    "    video_2 = data[(i+1)%len(data)]\n",
    "    if not video_2.endswith('avi'):\n",
    "        video_2 = os.path.join(video_2, os.path.basename(video_2)+'.avi')\n",
    "    out_video = os.path.join(output_audio_dir, 'merkel_video_{}.avi'.format(i))\n",
    "    command = (\"ffmpeg -i %s -i %s -c copy -map 0:0 -map 1:1 -shortest %s\" % (video_1, video_2, out_video))\n",
    "    output = subprocess.call(command, shell=True, stdout=None)\n",
    "    print(command)\n",
    "    print(output)"
   ]
  },
  {
   "cell_type": "code",
   "execution_count": 26,
   "id": "a6128435",
   "metadata": {},
   "outputs": [],
   "source": [
    "x = list([os.path.join('files/mismatched_videos/', f) for f in os.listdir('files/mismatched_videos/')])\n",
    "with open('files/mismatched_videolist.txt', 'w') as f:\n",
    "    f.writelines([xi+'\\n' for xi in x])"
   ]
  },
  {
   "cell_type": "markdown",
   "id": "a9aeeede",
   "metadata": {},
   "source": [
    "### pyattack videos"
   ]
  },
  {
   "cell_type": "code",
   "execution_count": 81,
   "id": "5d875d17",
   "metadata": {},
   "outputs": [],
   "source": [
    "pyattack = 'files/test_one/pyattack/'"
   ]
  },
  {
   "cell_type": "code",
   "execution_count": 82,
   "id": "c0ca8db4",
   "metadata": {},
   "outputs": [],
   "source": [
    "import glob\n",
    "fx = []\n",
    "for f in glob.glob('{}/*/Adv_eps*combined.avi'.format(pyattack), recursive=True):\n",
    "    fx.append(f)\n",
    "    \n",
    "with open('files/temp_adv.txt', 'w') as f:\n",
    "    f.writelines([fi+'\\n' for fi in fx])"
   ]
  },
  {
   "cell_type": "code",
   "execution_count": 83,
   "id": "c9368417",
   "metadata": {},
   "outputs": [],
   "source": [
    "import glob\n",
    "fx = []\n",
    "for f in glob.glob('{}/*/Original_combined.avi'.format(pyattack), recursive=True):\n",
    "    fx.append(f)\n",
    "    \n",
    "with open('files/org.txt', 'w') as f:\n",
    "    f.writelines([fi+'\\n' for fi in fx])"
   ]
  },
  {
   "cell_type": "code",
   "execution_count": null,
   "id": "d71b040e",
   "metadata": {},
   "outputs": [],
   "source": []
  }
 ],
 "metadata": {
  "kernelspec": {
   "display_name": "videotts",
   "language": "python",
   "name": "videotts"
  },
  "language_info": {
   "codemirror_mode": {
    "name": "ipython",
    "version": 3
   },
   "file_extension": ".py",
   "mimetype": "text/x-python",
   "name": "python",
   "nbconvert_exporter": "python",
   "pygments_lexer": "ipython3",
   "version": "3.8.8"
  }
 },
 "nbformat": 4,
 "nbformat_minor": 5
}
